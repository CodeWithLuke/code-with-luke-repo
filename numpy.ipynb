{
 "metadata": {
  "language_info": {
   "codemirror_mode": {
    "name": "ipython",
    "version": 3
   },
   "file_extension": ".py",
   "mimetype": "text/x-python",
   "name": "python",
   "nbconvert_exporter": "python",
   "pygments_lexer": "ipython3",
   "version": "3.8.5-final"
  },
  "orig_nbformat": 2,
  "kernelspec": {
   "name": "python3",
   "display_name": "Python 3",
   "language": "python"
  }
 },
 "nbformat": 4,
 "nbformat_minor": 2,
 "cells": [
  {
   "cell_type": "code",
   "execution_count": 1,
   "metadata": {},
   "outputs": [],
   "source": [
    "import numpy as np"
   ]
  },
  {
   "source": [
    "# The Numpy Array"
   ],
   "cell_type": "markdown",
   "metadata": {}
  },
  {
   "cell_type": "code",
   "execution_count": 2,
   "metadata": {},
   "outputs": [
    {
     "output_type": "stream",
     "name": "stdout",
     "text": [
      "[1 2 3]\n"
     ]
    }
   ],
   "source": [
    "# Single Dimensional\n",
    "a = np.array([1, 2, 3])\n",
    "print(a)"
   ]
  },
  {
   "cell_type": "code",
   "execution_count": 3,
   "metadata": {},
   "outputs": [
    {
     "output_type": "stream",
     "name": "stdout",
     "text": [
      "[[1 2 3]\n [4 5 6]]\n"
     ]
    }
   ],
   "source": [
    "# Multi Dimensional\n",
    "a = np.array([[1, 2, 3], [4, 5, 6]]) \n",
    "print(a) "
   ]
  },
  {
   "source": [
    "## Can Index and slice (just like a Python List)!"
   ],
   "cell_type": "markdown",
   "metadata": {}
  },
  {
   "cell_type": "code",
   "execution_count": 17,
   "metadata": {},
   "outputs": [
    {
     "output_type": "stream",
     "name": "stdout",
     "text": [
      "Entire array:\n[0 1 2 3 4 5 6 7 8 9]\n\nIndividual index 3:\n3\n\nIndex slice from 1 to 5:\n[1 2 3 4]\n"
     ]
    }
   ],
   "source": [
    "a = np.array(range(10))\n",
    "\n",
    "print(\"Entire array:\")\n",
    "print(a)\n",
    "print()\n",
    "print(\"Individual index 3:\")\n",
    "print(a[3])\n",
    "print()\n",
    "print(\"Index slice from 1 to 5:\")\n",
    "print(a[1:5])"
   ]
  },
  {
   "source": [
    "# When and why use them over Lists?"
   ],
   "cell_type": "markdown",
   "metadata": {}
  },
  {
   "source": [
    "## Less Memory"
   ],
   "cell_type": "markdown",
   "metadata": {}
  },
  {
   "cell_type": "code",
   "execution_count": 12,
   "metadata": {},
   "outputs": [
    {
     "output_type": "stream",
     "name": "stdout",
     "text": [
      "Size of the python list in bytes: 8056000\nSize of the numpy array in bytes: 4000\n"
     ]
    }
   ],
   "source": [
    "import sys \n",
    "\n",
    "S= range(1000) \n",
    "\n",
    "# list of 1000 elements  \n",
    "L = list(S)\n",
    "print(\"Size of the python list in bytes:\", sys.getsizeof(L)*len(L)) \n",
    "  \n",
    "# Numpy array of 1000 elements  \n",
    "D= np.array(S) \n",
    "print(\"Size of the numpy array in bytes:\", D.size*D.itemsize) \n"
   ]
  },
  {
   "source": [
    "## Convenient Array Creation Methods"
   ],
   "cell_type": "markdown",
   "metadata": {}
  },
  {
   "cell_type": "code",
   "execution_count": 5,
   "metadata": {},
   "outputs": [
    {
     "output_type": "stream",
     "name": "stdout",
     "text": [
      "An array with all zeros:\n[0. 0. 0. 0. 0. 0. 0. 0. 0. 0.]\n\nAn Identity Matrix:\n[[1. 0. 0.]\n [0. 1. 0.]\n [0. 0. 1.]]\n\nNP array with 1001 values evenly spaced between 1 through 100\n[  0.    0.1   0.2 ...  99.8  99.9 100. ]\n\nNP array with random integers\n[1 4 2 5 6 3 6 4 4 2]\n\n"
     ]
    }
   ],
   "source": [
    "#create array with all zeros\n",
    "zero_arr = np.zeros(10)\n",
    "print(\"An array with all zeros:\")\n",
    "print(zero_arr)\n",
    "print()\n",
    "\n",
    "#create an n-dimensional identity matrix\n",
    "id_matrix = np.eye(3)\n",
    "print(\"An Identity Matrix:\")\n",
    "print(id_matrix)\n",
    "print()\n",
    "\n",
    "# A range with a specified number of elements between them\n",
    "ls = np.linspace(0,100,1001)\n",
    "print(\"NP array with 1001 values evenly spaced between 1 through 100\")\n",
    "print(ls)\n",
    "print()\n",
    "\n",
    "# Array with random integers\n",
    "rand = np.random.random_integers(1,6,10)\n",
    "print(\"NP array with random integers\")\n",
    "print(rand)\n",
    "print()"
   ]
  },
  {
   "source": [
    "## More Convenient Math Operations"
   ],
   "cell_type": "markdown",
   "metadata": {}
  },
  {
   "cell_type": "code",
   "execution_count": 14,
   "metadata": {},
   "outputs": [
    {
     "output_type": "stream",
     "name": "stdout",
     "text": [
      "Array a:\n[2 1 1 2 3 3 4 2 3 1]\nArray b:\n[6 5 4 6 3 2 6 4 3 4]\n\nElements in array a doubled:\n[4 2 2 4 6 6 8 4 6 2]\n\nSum of array a and b:\n[ 8  6  5  8  6  5 10  6  6  5]\n"
     ]
    }
   ],
   "source": [
    "#Multiply each np array element by 2\n",
    "a = np.random.random_integers(1,6,10)\n",
    "\n",
    "b = np.random.random_integers(1,6,10)\n",
    "\n",
    "print(\"Array a:\")\n",
    "print(a)\n",
    "print(\"Array b:\")\n",
    "print(b)\n",
    "print()\n",
    "print(\"Elements in array a doubled:\")\n",
    "print(a*2)\n",
    "print()\n",
    "print(\"Sum of array a and b:\")\n",
    "print(a + b)"
   ]
  },
  {
   "cell_type": "code",
   "execution_count": 7,
   "metadata": {},
   "outputs": [
    {
     "output_type": "stream",
     "name": "stdout",
     "text": [
      "Standard Deviation of elements:\n1.7578395831246945\n\nCumulative Sum:\n[ 5 11 16 20 22 26 32 34 40 41]\n"
     ]
    }
   ],
   "source": [
    "print(\"Standard Deviation of elements:\")\n",
    "print(a.std())\n",
    "\n",
    "print()\n",
    "\n",
    "print(\"Cumulative Sum:\")\n",
    "print(a.cumsum())"
   ]
  },
  {
   "cell_type": "code",
   "execution_count": null,
   "metadata": {},
   "outputs": [],
   "source": []
  }
 ]
}