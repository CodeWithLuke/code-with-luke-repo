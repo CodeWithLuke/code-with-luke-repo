{
 "metadata": {
  "language_info": {
   "codemirror_mode": {
    "name": "ipython",
    "version": 3
   },
   "file_extension": ".py",
   "mimetype": "text/x-python",
   "name": "python",
   "nbconvert_exporter": "python",
   "pygments_lexer": "ipython3",
   "version": "3.8.5-final"
  },
  "orig_nbformat": 2,
  "kernelspec": {
   "name": "python3",
   "display_name": "Python 3",
   "language": "python"
  }
 },
 "nbformat": 4,
 "nbformat_minor": 2,
 "cells": [
  {
   "cell_type": "code",
   "execution_count": 2,
   "metadata": {},
   "outputs": [],
   "source": [
    "import numpy as np"
   ]
  },
  {
   "source": [
    "# The Numpy Array"
   ],
   "cell_type": "markdown",
   "metadata": {}
  },
  {
   "cell_type": "code",
   "execution_count": 3,
   "metadata": {},
   "outputs": [
    {
     "output_type": "stream",
     "name": "stdout",
     "text": [
      "[1 2 3]\n"
     ]
    }
   ],
   "source": [
    "# Single Dimensional\n",
    "a = np.array([1, 2, 3])\n",
    "print(a)"
   ]
  },
  {
   "cell_type": "code",
   "execution_count": 4,
   "metadata": {},
   "outputs": [
    {
     "output_type": "stream",
     "name": "stdout",
     "text": [
      "[[1 2 3]\n [4 5 6]]\n"
     ]
    }
   ],
   "source": [
    "# Multi Dimensional\n",
    "a = np.array([[1, 2, 3], [4, 5, 6]]) \n",
    "print(a) "
   ]
  },
  {
   "source": [
    "# When and why use them over Lists?"
   ],
   "cell_type": "markdown",
   "metadata": {}
  },
  {
   "source": [
    "## Less Memory"
   ],
   "cell_type": "markdown",
   "metadata": {}
  },
  {
   "cell_type": "code",
   "execution_count": 5,
   "metadata": {},
   "outputs": [
    {
     "output_type": "stream",
     "name": "stdout",
     "text": [
      "Size of the python list in bytes: 48000\nSize of the numpy array in bytes: 4000\n"
     ]
    }
   ],
   "source": [
    "import sys \n",
    "  \n",
    "# list of 1000 elements  \n",
    "S= range(1000) \n",
    "print(\"Size of the python list in bytes:\",sys.getsizeof(S)*len(S)) \n",
    "  \n",
    "# Numpy array of 1000 elements  \n",
    "D= np.array(S) \n",
    "print(\"Size of the numpy array in bytes:\",D.size*D.itemsize) \n"
   ]
  },
  {
   "source": [
    "## Convenient Array Creation Methods"
   ],
   "cell_type": "markdown",
   "metadata": {}
  },
  {
   "cell_type": "code",
   "execution_count": 7,
   "metadata": {},
   "outputs": [
    {
     "output_type": "stream",
     "name": "stdout",
     "text": [
      "An array with all zeros:\n[0. 0. 0. 0. 0. 0. 0. 0. 0. 0.]\n\nAn Identity Matrix:\n[[1. 0. 0.]\n [0. 1. 0.]\n [0. 0. 1.]]\n\nNP array with 1001 values evenly spaced between 1 through 100\n[  0.    0.1   0.2 ...  99.8  99.9 100. ]\n\nNP array with random integers\n[4 5 2 1 2 6 5 3 4 5]\n\n"
     ]
    }
   ],
   "source": [
    "#create array with all zeros\n",
    "zero_arr = np.zeros(10)\n",
    "print(\"An array with all zeros:\")\n",
    "print(zero_arr)\n",
    "print()\n",
    "\n",
    "#create an n-dimensional identity matrix\n",
    "id_matrix = np.eye(3)\n",
    "print(\"An Identity Matrix:\")\n",
    "print(id_matrix)\n",
    "print()\n",
    "\n",
    "# A range with a specified number of elements between them\n",
    "ls = np.linspace(0,100,1001)\n",
    "print(\"NP array with 1001 values evenly spaced between 1 through 100\")\n",
    "print(ls)\n",
    "print()\n",
    "\n",
    "# Array with random integers\n",
    "rand = np.random.random_integers(1,6,10)\n",
    "print(\"NP array with random integers\")\n",
    "print(rand)\n",
    "print()"
   ]
  },
  {
   "source": [
    "## More Convenient Math Operations"
   ],
   "cell_type": "markdown",
   "metadata": {}
  },
  {
   "cell_type": "code",
   "execution_count": 10,
   "metadata": {},
   "outputs": [
    {
     "output_type": "stream",
     "name": "stdout",
     "text": [
      "Array as is:\n[5 4 2 2 5 6 3 2 3 3]\n\nElements doubled:\n[10  8  4  4 10 12  6  4  6  6]\n"
     ]
    }
   ],
   "source": [
    "#Multiply each np array element by 2\n",
    "a = np.random.random_integers(1,6,10)\n",
    "\n",
    "print(\"Array as is:\")\n",
    "print(a)\n",
    "print()\n",
    "print(\"Elements doubled:\")\n",
    "print(a*2)"
   ]
  },
  {
   "cell_type": "code",
   "execution_count": 13,
   "metadata": {},
   "outputs": [
    {
     "output_type": "stream",
     "name": "stdout",
     "text": [
      "Standard Deviation of elements:\n1.3601470508735443\n\nCumulative Sum:\n[ 5  9 11 13 18 24 27 29 32 35]\n"
     ]
    }
   ],
   "source": [
    "print(\"Standard Deviation of elements:\")\n",
    "print(a.std())\n",
    "\n",
    "print()\n",
    "\n",
    "print(\"Cumulative Sum:\")\n",
    "print(a.cumsum())"
   ]
  },
  {
   "cell_type": "code",
   "execution_count": null,
   "metadata": {},
   "outputs": [],
   "source": []
  }
 ]
}