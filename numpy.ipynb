{
 "metadata": {
  "language_info": {
   "codemirror_mode": {
    "name": "ipython",
    "version": 3
   },
   "file_extension": ".py",
   "mimetype": "text/x-python",
   "name": "python",
   "nbconvert_exporter": "python",
   "pygments_lexer": "ipython3",
   "version": "3.8.5-final"
  },
  "orig_nbformat": 2,
  "kernelspec": {
   "name": "python3",
   "display_name": "Python 3",
   "language": "python"
  }
 },
 "nbformat": 4,
 "nbformat_minor": 2,
 "cells": [
  {
   "cell_type": "code",
   "execution_count": 1,
   "metadata": {},
   "outputs": [],
   "source": [
    "import numpy as np"
   ]
  },
  {
   "source": [
    "# The Numpy Array"
   ],
   "cell_type": "markdown",
   "metadata": {}
  },
  {
   "cell_type": "code",
   "execution_count": 2,
   "metadata": {},
   "outputs": [
    {
     "output_type": "stream",
     "name": "stdout",
     "text": [
      "[1 2 3]\n"
     ]
    }
   ],
   "source": [
    "# Single Dimensional\n",
    "a = np.array([1, 2, 3])\n",
    "print(a)"
   ]
  },
  {
   "cell_type": "code",
   "execution_count": null,
   "metadata": {},
   "outputs": [],
   "source": [
    "# Multi Dimensional\n",
    "a = np.array([[1, 2, 3], [4, 5, 6]]) \n",
    "print(a) "
   ]
  },
  {
   "source": [
    "# When and why use them over Lists?"
   ],
   "cell_type": "markdown",
   "metadata": {}
  },
  {
   "source": [
    "## Less Memory"
   ],
   "cell_type": "markdown",
   "metadata": {}
  },
  {
   "cell_type": "code",
   "execution_count": 4,
   "metadata": {},
   "outputs": [
    {
     "output_type": "stream",
     "name": "stdout",
     "text": [
      "Size of each element of list in bytes:  48\nSize of the whole list in bytes:  48000\nSize of each element of the Numpy array in bytes:  4\nSize of the whole Numpy array in bytes:  4000\n"
     ]
    }
   ],
   "source": [
    "# importing system module \n",
    "import sys \n",
    "  \n",
    "# declaring a list of 1000 elements  \n",
    "S= range(1000) \n",
    "  \n",
    "# printing size of each element of the list \n",
    "print(\"Size of each element of list in bytes: \",sys.getsizeof(S)) \n",
    "  \n",
    "# printing size of the whole list \n",
    "print(\"Size of the whole list in bytes: \",sys.getsizeof(S)*len(S)) \n",
    "  \n",
    "# declaring a Numpy array of 1000 elements  \n",
    "D= np.array(S) \n",
    "  \n",
    "# printing size of each element of the Numpy array \n",
    "print(\"Size of each element of the Numpy array in bytes: \",D.itemsize) \n",
    "  \n",
    "# printing size of the whole Numpy array \n",
    "print(\"Size of the whole Numpy array in bytes: \",D.size*D.itemsize) \n"
   ]
  },
  {
   "source": [
    "## Convenient Array Creation Methods"
   ],
   "cell_type": "markdown",
   "metadata": {}
  },
  {
   "cell_type": "code",
   "execution_count": 16,
   "metadata": {},
   "outputs": [],
   "source": [
    "zero_arr = np.zeros(10)\n",
    "\n",
    "id_matrix = np.eye(3)\n",
    "\n",
    "ls = np.linspace(0,100,1001)\n",
    "\n",
    "rand = np.random.random_integers(1,6,10)\n",
    "\n",
    "gauss_rand = np.random.normal(100,15,10)\n",
    "\n",
    "range_arr = np.arange(1,50,2)"
   ]
  },
  {
   "cell_type": "code",
   "execution_count": 17,
   "metadata": {},
   "outputs": [
    {
     "output_type": "execute_result",
     "data": {
      "text/plain": [
       "array([[1., 0., 0.],\n",
       "       [0., 1., 0.],\n",
       "       [0., 0., 1.]])"
      ]
     },
     "metadata": {},
     "execution_count": 17
    }
   ],
   "source": [
    "id_matrix"
   ]
  },
  {
   "source": [
    "## More Convenient Math Operations"
   ],
   "cell_type": "markdown",
   "metadata": {}
  },
  {
   "cell_type": "code",
   "execution_count": 18,
   "metadata": {},
   "outputs": [
    {
     "output_type": "stream",
     "name": "stdout",
     "text": [
      "[6 4 1 6 4 2 2 6 5 6]\n[12  8  2 12  8  4  4 12 10 12]\n"
     ]
    }
   ],
   "source": [
    "#Multiply each np array element by 2\n",
    "a = np.random.random_integers(1,6,10)\n",
    "\n",
    "print(a)\n",
    "\n",
    "print(a*2)"
   ]
  },
  {
   "cell_type": "code",
   "execution_count": 19,
   "metadata": {},
   "outputs": [
    {
     "output_type": "execute_result",
     "data": {
      "text/plain": [
       "1.8330302779823362"
      ]
     },
     "metadata": {},
     "execution_count": 19
    }
   ],
   "source": [
    "a.std()"
   ]
  },
  {
   "cell_type": "code",
   "execution_count": 20,
   "metadata": {},
   "outputs": [
    {
     "output_type": "execute_result",
     "data": {
      "text/plain": [
       "array([     6,     24,     24,    144,    576,   1152,   2304,  13824,\n",
       "        69120, 414720], dtype=int32)"
      ]
     },
     "metadata": {},
     "execution_count": 20
    }
   ],
   "source": [
    "a.cumprod()"
   ]
  },
  {
   "cell_type": "code",
   "execution_count": null,
   "metadata": {},
   "outputs": [],
   "source": []
  }
 ]
}