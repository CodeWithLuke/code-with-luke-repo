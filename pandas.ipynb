{
 "metadata": {
  "language_info": {
   "codemirror_mode": {
    "name": "ipython",
    "version": 3
   },
   "file_extension": ".py",
   "mimetype": "text/x-python",
   "name": "python",
   "nbconvert_exporter": "python",
   "pygments_lexer": "ipython3",
   "version": "3.8.5-final"
  },
  "orig_nbformat": 2,
  "kernelspec": {
   "name": "python3",
   "display_name": "Python 3.8.5 64-bit ('datascience': conda)",
   "metadata": {
    "interpreter": {
     "hash": "ac656afa1ecb014668dab43777044f90cc757fb7ed552028fdbad2c367d6e789"
    }
   }
  }
 },
 "nbformat": 4,
 "nbformat_minor": 2,
 "cells": [
  {
   "cell_type": "code",
   "execution_count": 1,
   "metadata": {},
   "outputs": [],
   "source": [
    "import pandas as pd\n",
    "\n",
    "import numpy as np"
   ]
  },
  {
   "source": [
    "# The Pandas DataFrame"
   ],
   "cell_type": "markdown",
   "metadata": {}
  },
  {
   "cell_type": "code",
   "execution_count": 2,
   "metadata": {},
   "outputs": [],
   "source": [
    "df = pd.DataFrame(\n",
    "    np.array([[1, 2, 3], [4, 5, 6], [7, 8, 9], [10, 11, 12]]), \n",
    "    columns=['Col A', 'Col B', 'Col C']\n",
    ")"
   ]
  },
  {
   "cell_type": "code",
   "execution_count": 3,
   "metadata": {},
   "outputs": [
    {
     "output_type": "execute_result",
     "data": {
      "text/plain": [
       "   Col A  Col B  Col C\n",
       "0      1      2      3\n",
       "1      4      5      6\n",
       "2      7      8      9\n",
       "3     10     11     12"
      ],
      "text/html": "<div>\n<style scoped>\n    .dataframe tbody tr th:only-of-type {\n        vertical-align: middle;\n    }\n\n    .dataframe tbody tr th {\n        vertical-align: top;\n    }\n\n    .dataframe thead th {\n        text-align: right;\n    }\n</style>\n<table border=\"1\" class=\"dataframe\">\n  <thead>\n    <tr style=\"text-align: right;\">\n      <th></th>\n      <th>Col A</th>\n      <th>Col B</th>\n      <th>Col C</th>\n    </tr>\n  </thead>\n  <tbody>\n    <tr>\n      <th>0</th>\n      <td>1</td>\n      <td>2</td>\n      <td>3</td>\n    </tr>\n    <tr>\n      <th>1</th>\n      <td>4</td>\n      <td>5</td>\n      <td>6</td>\n    </tr>\n    <tr>\n      <th>2</th>\n      <td>7</td>\n      <td>8</td>\n      <td>9</td>\n    </tr>\n    <tr>\n      <th>3</th>\n      <td>10</td>\n      <td>11</td>\n      <td>12</td>\n    </tr>\n  </tbody>\n</table>\n</div>"
     },
     "metadata": {},
     "execution_count": 3
    }
   ],
   "source": [
    "# Its really just a table with a few fancy tricks\n",
    "df"
   ]
  },
  {
   "source": [
    "## Importing Data"
   ],
   "cell_type": "markdown",
   "metadata": {}
  },
  {
   "cell_type": "code",
   "execution_count": 4,
   "metadata": {},
   "outputs": [],
   "source": [
    "imported_data = pd.read_csv(r'datasets\\NBA_Seasons_Stats.csv', index_col='Index')"
   ]
  },
  {
   "cell_type": "code",
   "execution_count": 5,
   "metadata": {},
   "outputs": [
    {
     "output_type": "execute_result",
     "data": {
      "text/plain": [
       "(24691, 52)"
      ]
     },
     "metadata": {},
     "execution_count": 5
    }
   ],
   "source": [
    "#Get number of rows and columns in a dataset\n",
    "imported_data.shape"
   ]
  },
  {
   "cell_type": "code",
   "execution_count": 6,
   "metadata": {},
   "outputs": [
    {
     "output_type": "execute_result",
     "data": {
      "text/plain": [
       "         Year             Player Pos   Age   Tm     G    GS      MP   PER  \\\n",
       "Index                                                                       \n",
       "24681  2017.0       Delon Wright  PG  24.0  TOR  27.0   0.0   446.0  15.0   \n",
       "24682  2017.0        James Young  SG  21.0  BOS  29.0   0.0   220.0  10.0   \n",
       "24683  2017.0          Joe Young  PG  24.0  IND  33.0   0.0   135.0  11.4   \n",
       "24684  2017.0         Nick Young  SG  31.0  LAL  60.0  60.0  1556.0  14.1   \n",
       "24685  2017.0     Thaddeus Young  PF  28.0  IND  74.0  74.0  2237.0  14.9   \n",
       "24686  2017.0        Cody Zeller  PF  24.0  CHO  62.0  58.0  1725.0  16.7   \n",
       "24687  2017.0       Tyler Zeller   C  27.0  BOS  51.0   5.0   525.0  13.0   \n",
       "24688  2017.0  Stephen Zimmerman   C  20.0  ORL  19.0   0.0   108.0   7.3   \n",
       "24689  2017.0        Paul Zipser  SF  22.0  CHI  44.0  18.0   843.0   6.9   \n",
       "24690  2017.0        Ivica Zubac   C  19.0  LAL  38.0  11.0   609.0  17.0   \n",
       "\n",
       "        TSP_  ...   FTP_    ORB    DRB    TRB    AST    STL   BLK   TOV  \\\n",
       "Index         ...                                                         \n",
       "24681  0.535  ...  0.764   16.0   32.0   48.0   57.0   27.0  11.0  25.0   \n",
       "24682  0.549  ...  0.667    6.0   20.0   26.0    4.0   10.0   2.0   4.0   \n",
       "24683  0.433  ...  0.733    1.0   16.0   17.0   15.0    4.0   0.0   5.0   \n",
       "24684  0.588  ...  0.856   25.0  112.0  137.0   58.0   37.0  14.0  36.0   \n",
       "24685  0.562  ...  0.523  131.0  318.0  449.0  122.0  114.0  30.0  96.0   \n",
       "24686  0.604  ...  0.679  135.0  270.0  405.0   99.0   62.0  58.0  65.0   \n",
       "24687  0.508  ...  0.564   43.0   81.0  124.0   42.0    7.0  21.0  20.0   \n",
       "24688  0.346  ...  0.600   11.0   24.0   35.0    4.0    2.0   5.0   3.0   \n",
       "24689  0.503  ...  0.775   15.0  110.0  125.0   36.0   15.0  16.0  40.0   \n",
       "24690  0.547  ...  0.653   41.0  118.0  159.0   30.0   14.0  33.0  30.0   \n",
       "\n",
       "          PF    PTS  \n",
       "Index                \n",
       "24681   31.0  150.0  \n",
       "24682   15.0   68.0  \n",
       "24683    5.0   68.0  \n",
       "24684  137.0  791.0  \n",
       "24685  135.0  814.0  \n",
       "24686  189.0  639.0  \n",
       "24687   61.0  178.0  \n",
       "24688   17.0   23.0  \n",
       "24689   78.0  240.0  \n",
       "24690   66.0  284.0  \n",
       "\n",
       "[10 rows x 52 columns]"
      ],
      "text/html": "<div>\n<style scoped>\n    .dataframe tbody tr th:only-of-type {\n        vertical-align: middle;\n    }\n\n    .dataframe tbody tr th {\n        vertical-align: top;\n    }\n\n    .dataframe thead th {\n        text-align: right;\n    }\n</style>\n<table border=\"1\" class=\"dataframe\">\n  <thead>\n    <tr style=\"text-align: right;\">\n      <th></th>\n      <th>Year</th>\n      <th>Player</th>\n      <th>Pos</th>\n      <th>Age</th>\n      <th>Tm</th>\n      <th>G</th>\n      <th>GS</th>\n      <th>MP</th>\n      <th>PER</th>\n      <th>TSP_</th>\n      <th>...</th>\n      <th>FTP_</th>\n      <th>ORB</th>\n      <th>DRB</th>\n      <th>TRB</th>\n      <th>AST</th>\n      <th>STL</th>\n      <th>BLK</th>\n      <th>TOV</th>\n      <th>PF</th>\n      <th>PTS</th>\n    </tr>\n    <tr>\n      <th>Index</th>\n      <th></th>\n      <th></th>\n      <th></th>\n      <th></th>\n      <th></th>\n      <th></th>\n      <th></th>\n      <th></th>\n      <th></th>\n      <th></th>\n      <th></th>\n      <th></th>\n      <th></th>\n      <th></th>\n      <th></th>\n      <th></th>\n      <th></th>\n      <th></th>\n      <th></th>\n      <th></th>\n      <th></th>\n    </tr>\n  </thead>\n  <tbody>\n    <tr>\n      <th>24681</th>\n      <td>2017.0</td>\n      <td>Delon Wright</td>\n      <td>PG</td>\n      <td>24.0</td>\n      <td>TOR</td>\n      <td>27.0</td>\n      <td>0.0</td>\n      <td>446.0</td>\n      <td>15.0</td>\n      <td>0.535</td>\n      <td>...</td>\n      <td>0.764</td>\n      <td>16.0</td>\n      <td>32.0</td>\n      <td>48.0</td>\n      <td>57.0</td>\n      <td>27.0</td>\n      <td>11.0</td>\n      <td>25.0</td>\n      <td>31.0</td>\n      <td>150.0</td>\n    </tr>\n    <tr>\n      <th>24682</th>\n      <td>2017.0</td>\n      <td>James Young</td>\n      <td>SG</td>\n      <td>21.0</td>\n      <td>BOS</td>\n      <td>29.0</td>\n      <td>0.0</td>\n      <td>220.0</td>\n      <td>10.0</td>\n      <td>0.549</td>\n      <td>...</td>\n      <td>0.667</td>\n      <td>6.0</td>\n      <td>20.0</td>\n      <td>26.0</td>\n      <td>4.0</td>\n      <td>10.0</td>\n      <td>2.0</td>\n      <td>4.0</td>\n      <td>15.0</td>\n      <td>68.0</td>\n    </tr>\n    <tr>\n      <th>24683</th>\n      <td>2017.0</td>\n      <td>Joe Young</td>\n      <td>PG</td>\n      <td>24.0</td>\n      <td>IND</td>\n      <td>33.0</td>\n      <td>0.0</td>\n      <td>135.0</td>\n      <td>11.4</td>\n      <td>0.433</td>\n      <td>...</td>\n      <td>0.733</td>\n      <td>1.0</td>\n      <td>16.0</td>\n      <td>17.0</td>\n      <td>15.0</td>\n      <td>4.0</td>\n      <td>0.0</td>\n      <td>5.0</td>\n      <td>5.0</td>\n      <td>68.0</td>\n    </tr>\n    <tr>\n      <th>24684</th>\n      <td>2017.0</td>\n      <td>Nick Young</td>\n      <td>SG</td>\n      <td>31.0</td>\n      <td>LAL</td>\n      <td>60.0</td>\n      <td>60.0</td>\n      <td>1556.0</td>\n      <td>14.1</td>\n      <td>0.588</td>\n      <td>...</td>\n      <td>0.856</td>\n      <td>25.0</td>\n      <td>112.0</td>\n      <td>137.0</td>\n      <td>58.0</td>\n      <td>37.0</td>\n      <td>14.0</td>\n      <td>36.0</td>\n      <td>137.0</td>\n      <td>791.0</td>\n    </tr>\n    <tr>\n      <th>24685</th>\n      <td>2017.0</td>\n      <td>Thaddeus Young</td>\n      <td>PF</td>\n      <td>28.0</td>\n      <td>IND</td>\n      <td>74.0</td>\n      <td>74.0</td>\n      <td>2237.0</td>\n      <td>14.9</td>\n      <td>0.562</td>\n      <td>...</td>\n      <td>0.523</td>\n      <td>131.0</td>\n      <td>318.0</td>\n      <td>449.0</td>\n      <td>122.0</td>\n      <td>114.0</td>\n      <td>30.0</td>\n      <td>96.0</td>\n      <td>135.0</td>\n      <td>814.0</td>\n    </tr>\n    <tr>\n      <th>24686</th>\n      <td>2017.0</td>\n      <td>Cody Zeller</td>\n      <td>PF</td>\n      <td>24.0</td>\n      <td>CHO</td>\n      <td>62.0</td>\n      <td>58.0</td>\n      <td>1725.0</td>\n      <td>16.7</td>\n      <td>0.604</td>\n      <td>...</td>\n      <td>0.679</td>\n      <td>135.0</td>\n      <td>270.0</td>\n      <td>405.0</td>\n      <td>99.0</td>\n      <td>62.0</td>\n      <td>58.0</td>\n      <td>65.0</td>\n      <td>189.0</td>\n      <td>639.0</td>\n    </tr>\n    <tr>\n      <th>24687</th>\n      <td>2017.0</td>\n      <td>Tyler Zeller</td>\n      <td>C</td>\n      <td>27.0</td>\n      <td>BOS</td>\n      <td>51.0</td>\n      <td>5.0</td>\n      <td>525.0</td>\n      <td>13.0</td>\n      <td>0.508</td>\n      <td>...</td>\n      <td>0.564</td>\n      <td>43.0</td>\n      <td>81.0</td>\n      <td>124.0</td>\n      <td>42.0</td>\n      <td>7.0</td>\n      <td>21.0</td>\n      <td>20.0</td>\n      <td>61.0</td>\n      <td>178.0</td>\n    </tr>\n    <tr>\n      <th>24688</th>\n      <td>2017.0</td>\n      <td>Stephen Zimmerman</td>\n      <td>C</td>\n      <td>20.0</td>\n      <td>ORL</td>\n      <td>19.0</td>\n      <td>0.0</td>\n      <td>108.0</td>\n      <td>7.3</td>\n      <td>0.346</td>\n      <td>...</td>\n      <td>0.600</td>\n      <td>11.0</td>\n      <td>24.0</td>\n      <td>35.0</td>\n      <td>4.0</td>\n      <td>2.0</td>\n      <td>5.0</td>\n      <td>3.0</td>\n      <td>17.0</td>\n      <td>23.0</td>\n    </tr>\n    <tr>\n      <th>24689</th>\n      <td>2017.0</td>\n      <td>Paul Zipser</td>\n      <td>SF</td>\n      <td>22.0</td>\n      <td>CHI</td>\n      <td>44.0</td>\n      <td>18.0</td>\n      <td>843.0</td>\n      <td>6.9</td>\n      <td>0.503</td>\n      <td>...</td>\n      <td>0.775</td>\n      <td>15.0</td>\n      <td>110.0</td>\n      <td>125.0</td>\n      <td>36.0</td>\n      <td>15.0</td>\n      <td>16.0</td>\n      <td>40.0</td>\n      <td>78.0</td>\n      <td>240.0</td>\n    </tr>\n    <tr>\n      <th>24690</th>\n      <td>2017.0</td>\n      <td>Ivica Zubac</td>\n      <td>C</td>\n      <td>19.0</td>\n      <td>LAL</td>\n      <td>38.0</td>\n      <td>11.0</td>\n      <td>609.0</td>\n      <td>17.0</td>\n      <td>0.547</td>\n      <td>...</td>\n      <td>0.653</td>\n      <td>41.0</td>\n      <td>118.0</td>\n      <td>159.0</td>\n      <td>30.0</td>\n      <td>14.0</td>\n      <td>33.0</td>\n      <td>30.0</td>\n      <td>66.0</td>\n      <td>284.0</td>\n    </tr>\n  </tbody>\n</table>\n<p>10 rows × 52 columns</p>\n</div>"
     },
     "metadata": {},
     "execution_count": 6
    }
   ],
   "source": [
    "#get bottom n rows of the dataframe\n",
    "imported_data.tail(10)"
   ]
  },
  {
   "cell_type": "code",
   "execution_count": 7,
   "metadata": {},
   "outputs": [
    {
     "output_type": "execute_result",
     "data": {
      "text/plain": [
       "Year      float64\n",
       "Player     object\n",
       "Pos        object\n",
       "Age       float64\n",
       "Tm         object\n",
       "G         float64\n",
       "GS        float64\n",
       "MP        float64\n",
       "PER       float64\n",
       "TSP_      float64\n",
       "_3PAr     float64\n",
       "FTr       float64\n",
       "ORBP_     float64\n",
       "DRBP_     float64\n",
       "TRBP_     float64\n",
       "ASTP_     float64\n",
       "STLP_     float64\n",
       "BLKP_     float64\n",
       "TOVP_     float64\n",
       "USGP_     float64\n",
       "blanl     float64\n",
       "OWS       float64\n",
       "DWS       float64\n",
       "WS        float64\n",
       "WS/48     float64\n",
       "blank2    float64\n",
       "OBPM      float64\n",
       "DBPM      float64\n",
       "BPM       float64\n",
       "VORP      float64\n",
       "FG        float64\n",
       "FGA       float64\n",
       "FGP_      float64\n",
       "_3P       float64\n",
       "_3PA      float64\n",
       "_3PP_     float64\n",
       "_2P       float64\n",
       "_2PA      float64\n",
       "_2PP_     float64\n",
       "eFGP_     float64\n",
       "FT        float64\n",
       "FTA       float64\n",
       "FTP_      float64\n",
       "ORB       float64\n",
       "DRB       float64\n",
       "TRB       float64\n",
       "AST       float64\n",
       "STL       float64\n",
       "BLK       float64\n",
       "TOV       float64\n",
       "PF        float64\n",
       "PTS       float64\n",
       "dtype: object"
      ]
     },
     "metadata": {},
     "execution_count": 7
    }
   ],
   "source": [
    "#View the columns and data types associated with each\n",
    "imported_data.dtypes"
   ]
  },
  {
   "source": [
    "## Select a Single Column!"
   ],
   "cell_type": "markdown",
   "metadata": {}
  },
  {
   "cell_type": "code",
   "execution_count": 8,
   "metadata": {},
   "outputs": [
    {
     "output_type": "execute_result",
     "data": {
      "text/plain": [
       "Index\n",
       "0        31.0\n",
       "1        29.0\n",
       "2        25.0\n",
       "3        24.0\n",
       "4        24.0\n",
       "         ... \n",
       "24686    24.0\n",
       "24687    27.0\n",
       "24688    20.0\n",
       "24689    22.0\n",
       "24690    19.0\n",
       "Name: Age, Length: 24691, dtype: float64"
      ]
     },
     "metadata": {},
     "execution_count": 8
    }
   ],
   "source": [
    "imported_data['Age']"
   ]
  },
  {
   "cell_type": "code",
   "execution_count": 9,
   "metadata": {},
   "outputs": [
    {
     "output_type": "execute_result",
     "data": {
      "text/plain": [
       "26.66440526486838"
      ]
     },
     "metadata": {},
     "execution_count": 9
    }
   ],
   "source": [
    "imported_data['Age'].mean()"
   ]
  },
  {
   "source": [
    "## Save space with categorical variables!"
   ],
   "cell_type": "markdown",
   "metadata": {}
  },
  {
   "cell_type": "code",
   "execution_count": 10,
   "metadata": {},
   "outputs": [
    {
     "output_type": "execute_result",
     "data": {
      "text/plain": [
       "395056"
      ]
     },
     "metadata": {},
     "execution_count": 10
    }
   ],
   "source": [
    "imported_data['Pos'].memory_usage()"
   ]
  },
  {
   "cell_type": "code",
   "execution_count": 11,
   "metadata": {},
   "outputs": [],
   "source": [
    "imported_data['Pos'] = imported_data['Pos'].astype('category')"
   ]
  },
  {
   "cell_type": "code",
   "execution_count": 16,
   "metadata": {},
   "outputs": [
    {
     "output_type": "execute_result",
     "data": {
      "text/plain": [
       "         Year             Player  Pos   Age   Tm     G    GS      MP   PER  \\\n",
       "Index                                                                        \n",
       "0      1950.0    Curly Armstrong  G-F  31.0  FTW  63.0   NaN     NaN   NaN   \n",
       "1      1950.0       Cliff Barker   SG  29.0  INO  49.0   NaN     NaN   NaN   \n",
       "2      1950.0      Leo Barnhorst   SF  25.0  CHS  67.0   NaN     NaN   NaN   \n",
       "3      1950.0         Ed Bartels    F  24.0  TOT  15.0   NaN     NaN   NaN   \n",
       "4      1950.0         Ed Bartels    F  24.0  DNN  13.0   NaN     NaN   NaN   \n",
       "...       ...                ...  ...   ...  ...   ...   ...     ...   ...   \n",
       "24686  2017.0        Cody Zeller   PF  24.0  CHO  62.0  58.0  1725.0  16.7   \n",
       "24687  2017.0       Tyler Zeller    C  27.0  BOS  51.0   5.0   525.0  13.0   \n",
       "24688  2017.0  Stephen Zimmerman    C  20.0  ORL  19.0   0.0   108.0   7.3   \n",
       "24689  2017.0        Paul Zipser   SF  22.0  CHI  44.0  18.0   843.0   6.9   \n",
       "24690  2017.0        Ivica Zubac    C  19.0  LAL  38.0  11.0   609.0  17.0   \n",
       "\n",
       "        TSP_  ...   FTP_    ORB    DRB    TRB    AST   STL   BLK   TOV     PF  \\\n",
       "Index         ...                                                               \n",
       "0      0.368  ...  0.705    NaN    NaN    NaN  176.0   NaN   NaN   NaN  217.0   \n",
       "1      0.435  ...  0.708    NaN    NaN    NaN  109.0   NaN   NaN   NaN   99.0   \n",
       "2      0.394  ...  0.698    NaN    NaN    NaN  140.0   NaN   NaN   NaN  192.0   \n",
       "3      0.312  ...  0.559    NaN    NaN    NaN   20.0   NaN   NaN   NaN   29.0   \n",
       "4      0.308  ...  0.548    NaN    NaN    NaN   20.0   NaN   NaN   NaN   27.0   \n",
       "...      ...  ...    ...    ...    ...    ...    ...   ...   ...   ...    ...   \n",
       "24686  0.604  ...  0.679  135.0  270.0  405.0   99.0  62.0  58.0  65.0  189.0   \n",
       "24687  0.508  ...  0.564   43.0   81.0  124.0   42.0   7.0  21.0  20.0   61.0   \n",
       "24688  0.346  ...  0.600   11.0   24.0   35.0    4.0   2.0   5.0   3.0   17.0   \n",
       "24689  0.503  ...  0.775   15.0  110.0  125.0   36.0  15.0  16.0  40.0   78.0   \n",
       "24690  0.547  ...  0.653   41.0  118.0  159.0   30.0  14.0  33.0  30.0   66.0   \n",
       "\n",
       "         PTS  \n",
       "Index         \n",
       "0      458.0  \n",
       "1      279.0  \n",
       "2      438.0  \n",
       "3       63.0  \n",
       "4       59.0  \n",
       "...      ...  \n",
       "24686  639.0  \n",
       "24687  178.0  \n",
       "24688   23.0  \n",
       "24689  240.0  \n",
       "24690  284.0  \n",
       "\n",
       "[24691 rows x 52 columns]"
      ],
      "text/html": "<div>\n<style scoped>\n    .dataframe tbody tr th:only-of-type {\n        vertical-align: middle;\n    }\n\n    .dataframe tbody tr th {\n        vertical-align: top;\n    }\n\n    .dataframe thead th {\n        text-align: right;\n    }\n</style>\n<table border=\"1\" class=\"dataframe\">\n  <thead>\n    <tr style=\"text-align: right;\">\n      <th></th>\n      <th>Year</th>\n      <th>Player</th>\n      <th>Pos</th>\n      <th>Age</th>\n      <th>Tm</th>\n      <th>G</th>\n      <th>GS</th>\n      <th>MP</th>\n      <th>PER</th>\n      <th>TSP_</th>\n      <th>...</th>\n      <th>FTP_</th>\n      <th>ORB</th>\n      <th>DRB</th>\n      <th>TRB</th>\n      <th>AST</th>\n      <th>STL</th>\n      <th>BLK</th>\n      <th>TOV</th>\n      <th>PF</th>\n      <th>PTS</th>\n    </tr>\n    <tr>\n      <th>Index</th>\n      <th></th>\n      <th></th>\n      <th></th>\n      <th></th>\n      <th></th>\n      <th></th>\n      <th></th>\n      <th></th>\n      <th></th>\n      <th></th>\n      <th></th>\n      <th></th>\n      <th></th>\n      <th></th>\n      <th></th>\n      <th></th>\n      <th></th>\n      <th></th>\n      <th></th>\n      <th></th>\n      <th></th>\n    </tr>\n  </thead>\n  <tbody>\n    <tr>\n      <th>0</th>\n      <td>1950.0</td>\n      <td>Curly Armstrong</td>\n      <td>G-F</td>\n      <td>31.0</td>\n      <td>FTW</td>\n      <td>63.0</td>\n      <td>NaN</td>\n      <td>NaN</td>\n      <td>NaN</td>\n      <td>0.368</td>\n      <td>...</td>\n      <td>0.705</td>\n      <td>NaN</td>\n      <td>NaN</td>\n      <td>NaN</td>\n      <td>176.0</td>\n      <td>NaN</td>\n      <td>NaN</td>\n      <td>NaN</td>\n      <td>217.0</td>\n      <td>458.0</td>\n    </tr>\n    <tr>\n      <th>1</th>\n      <td>1950.0</td>\n      <td>Cliff Barker</td>\n      <td>SG</td>\n      <td>29.0</td>\n      <td>INO</td>\n      <td>49.0</td>\n      <td>NaN</td>\n      <td>NaN</td>\n      <td>NaN</td>\n      <td>0.435</td>\n      <td>...</td>\n      <td>0.708</td>\n      <td>NaN</td>\n      <td>NaN</td>\n      <td>NaN</td>\n      <td>109.0</td>\n      <td>NaN</td>\n      <td>NaN</td>\n      <td>NaN</td>\n      <td>99.0</td>\n      <td>279.0</td>\n    </tr>\n    <tr>\n      <th>2</th>\n      <td>1950.0</td>\n      <td>Leo Barnhorst</td>\n      <td>SF</td>\n      <td>25.0</td>\n      <td>CHS</td>\n      <td>67.0</td>\n      <td>NaN</td>\n      <td>NaN</td>\n      <td>NaN</td>\n      <td>0.394</td>\n      <td>...</td>\n      <td>0.698</td>\n      <td>NaN</td>\n      <td>NaN</td>\n      <td>NaN</td>\n      <td>140.0</td>\n      <td>NaN</td>\n      <td>NaN</td>\n      <td>NaN</td>\n      <td>192.0</td>\n      <td>438.0</td>\n    </tr>\n    <tr>\n      <th>3</th>\n      <td>1950.0</td>\n      <td>Ed Bartels</td>\n      <td>F</td>\n      <td>24.0</td>\n      <td>TOT</td>\n      <td>15.0</td>\n      <td>NaN</td>\n      <td>NaN</td>\n      <td>NaN</td>\n      <td>0.312</td>\n      <td>...</td>\n      <td>0.559</td>\n      <td>NaN</td>\n      <td>NaN</td>\n      <td>NaN</td>\n      <td>20.0</td>\n      <td>NaN</td>\n      <td>NaN</td>\n      <td>NaN</td>\n      <td>29.0</td>\n      <td>63.0</td>\n    </tr>\n    <tr>\n      <th>4</th>\n      <td>1950.0</td>\n      <td>Ed Bartels</td>\n      <td>F</td>\n      <td>24.0</td>\n      <td>DNN</td>\n      <td>13.0</td>\n      <td>NaN</td>\n      <td>NaN</td>\n      <td>NaN</td>\n      <td>0.308</td>\n      <td>...</td>\n      <td>0.548</td>\n      <td>NaN</td>\n      <td>NaN</td>\n      <td>NaN</td>\n      <td>20.0</td>\n      <td>NaN</td>\n      <td>NaN</td>\n      <td>NaN</td>\n      <td>27.0</td>\n      <td>59.0</td>\n    </tr>\n    <tr>\n      <th>...</th>\n      <td>...</td>\n      <td>...</td>\n      <td>...</td>\n      <td>...</td>\n      <td>...</td>\n      <td>...</td>\n      <td>...</td>\n      <td>...</td>\n      <td>...</td>\n      <td>...</td>\n      <td>...</td>\n      <td>...</td>\n      <td>...</td>\n      <td>...</td>\n      <td>...</td>\n      <td>...</td>\n      <td>...</td>\n      <td>...</td>\n      <td>...</td>\n      <td>...</td>\n      <td>...</td>\n    </tr>\n    <tr>\n      <th>24686</th>\n      <td>2017.0</td>\n      <td>Cody Zeller</td>\n      <td>PF</td>\n      <td>24.0</td>\n      <td>CHO</td>\n      <td>62.0</td>\n      <td>58.0</td>\n      <td>1725.0</td>\n      <td>16.7</td>\n      <td>0.604</td>\n      <td>...</td>\n      <td>0.679</td>\n      <td>135.0</td>\n      <td>270.0</td>\n      <td>405.0</td>\n      <td>99.0</td>\n      <td>62.0</td>\n      <td>58.0</td>\n      <td>65.0</td>\n      <td>189.0</td>\n      <td>639.0</td>\n    </tr>\n    <tr>\n      <th>24687</th>\n      <td>2017.0</td>\n      <td>Tyler Zeller</td>\n      <td>C</td>\n      <td>27.0</td>\n      <td>BOS</td>\n      <td>51.0</td>\n      <td>5.0</td>\n      <td>525.0</td>\n      <td>13.0</td>\n      <td>0.508</td>\n      <td>...</td>\n      <td>0.564</td>\n      <td>43.0</td>\n      <td>81.0</td>\n      <td>124.0</td>\n      <td>42.0</td>\n      <td>7.0</td>\n      <td>21.0</td>\n      <td>20.0</td>\n      <td>61.0</td>\n      <td>178.0</td>\n    </tr>\n    <tr>\n      <th>24688</th>\n      <td>2017.0</td>\n      <td>Stephen Zimmerman</td>\n      <td>C</td>\n      <td>20.0</td>\n      <td>ORL</td>\n      <td>19.0</td>\n      <td>0.0</td>\n      <td>108.0</td>\n      <td>7.3</td>\n      <td>0.346</td>\n      <td>...</td>\n      <td>0.600</td>\n      <td>11.0</td>\n      <td>24.0</td>\n      <td>35.0</td>\n      <td>4.0</td>\n      <td>2.0</td>\n      <td>5.0</td>\n      <td>3.0</td>\n      <td>17.0</td>\n      <td>23.0</td>\n    </tr>\n    <tr>\n      <th>24689</th>\n      <td>2017.0</td>\n      <td>Paul Zipser</td>\n      <td>SF</td>\n      <td>22.0</td>\n      <td>CHI</td>\n      <td>44.0</td>\n      <td>18.0</td>\n      <td>843.0</td>\n      <td>6.9</td>\n      <td>0.503</td>\n      <td>...</td>\n      <td>0.775</td>\n      <td>15.0</td>\n      <td>110.0</td>\n      <td>125.0</td>\n      <td>36.0</td>\n      <td>15.0</td>\n      <td>16.0</td>\n      <td>40.0</td>\n      <td>78.0</td>\n      <td>240.0</td>\n    </tr>\n    <tr>\n      <th>24690</th>\n      <td>2017.0</td>\n      <td>Ivica Zubac</td>\n      <td>C</td>\n      <td>19.0</td>\n      <td>LAL</td>\n      <td>38.0</td>\n      <td>11.0</td>\n      <td>609.0</td>\n      <td>17.0</td>\n      <td>0.547</td>\n      <td>...</td>\n      <td>0.653</td>\n      <td>41.0</td>\n      <td>118.0</td>\n      <td>159.0</td>\n      <td>30.0</td>\n      <td>14.0</td>\n      <td>33.0</td>\n      <td>30.0</td>\n      <td>66.0</td>\n      <td>284.0</td>\n    </tr>\n  </tbody>\n</table>\n<p>24691 rows × 52 columns</p>\n</div>"
     },
     "metadata": {},
     "execution_count": 16
    }
   ],
   "source": [
    "imported_data"
   ]
  },
  {
   "cell_type": "code",
   "execution_count": 14,
   "metadata": {},
   "outputs": [
    {
     "output_type": "execute_result",
     "data": {
      "text/plain": [
       "Year       float64\n",
       "Player      object\n",
       "Pos       category\n",
       "Age        float64\n",
       "Tm          object\n",
       "dtype: object"
      ]
     },
     "metadata": {},
     "execution_count": 14
    }
   ],
   "source": [
    "#head gets top of the list\n",
    "imported_data.dtypes.head()"
   ]
  },
  {
   "cell_type": "code",
   "execution_count": 15,
   "metadata": {},
   "outputs": [
    {
     "output_type": "execute_result",
     "data": {
      "text/plain": [
       "223043"
      ]
     },
     "metadata": {},
     "execution_count": 15
    }
   ],
   "source": [
    "imported_data['Pos'].memory_usage()"
   ]
  },
  {
   "source": [
    "## Filtering the Data!"
   ],
   "cell_type": "markdown",
   "metadata": {}
  },
  {
   "cell_type": "code",
   "execution_count": 25,
   "metadata": {},
   "outputs": [
    {
     "output_type": "execute_result",
     "data": {
      "text/plain": [
       "         Year                Player Pos   Age   Tm     G    GS      MP   PER  \\\n",
       "Index                                                                          \n",
       "20005  2010.0         Shannon Brown  SG  24.0  LAL  82.0   7.0  1700.0  12.4   \n",
       "20006  2010.0           Kobe Bryant  SG  31.0  LAL  73.0  73.0  2835.0  21.9   \n",
       "20012  2010.0          Andrew Bynum   C  22.0  LAL  65.0  65.0  1977.0  20.2   \n",
       "20080  2010.0         Jordan Farmar  PG  23.0  LAL  82.0   0.0  1474.0  12.3   \n",
       "20087  2010.0          Derek Fisher  PG  35.0  LAL  82.0  82.0  2227.0   9.3   \n",
       "20099  2010.0             Pau Gasol   C  29.0  LAL  65.0  65.0  2403.0  22.9   \n",
       "20188  2010.0  Didier Ilunga-Mbenga   C  29.0  LAL  49.0   2.0   355.0  11.6   \n",
       "20313  2010.0         Adam Morrison  SF  25.0  LAL  31.0   0.0   241.0   7.4   \n",
       "20335  2010.0            Lamar Odom  PF  30.0  LAL  82.0  38.0  2585.0  15.9   \n",
       "20356  2010.0           Josh Powell  PF  27.0  LAL  63.0   0.0   581.0   6.7   \n",
       "20457  2010.0         Sasha Vujacic  SG  25.0  LAL  67.0   1.0   575.0  11.4   \n",
       "20465  2010.0           Luke Walton  SF  29.0  LAL  29.0   0.0   272.0   9.7   \n",
       "20493  2010.0           Metta World  SF  30.0  LAL  77.0  77.0  2605.0  12.1   \n",
       "\n",
       "        TSP_  ...   FTP_    ORB    DRB    TRB    AST    STL    BLK    TOV  \\\n",
       "Index         ...                                                           \n",
       "20005  0.517  ...  0.818   30.0  153.0  183.0  108.0   57.0   31.0   67.0   \n",
       "20006  0.545  ...  0.811   78.0  313.0  391.0  365.0  113.0   20.0  233.0   \n",
       "20012  0.608  ...  0.739  177.0  364.0  541.0   68.0   35.0   94.0  115.0   \n",
       "20080  0.535  ...  0.671   14.0  117.0  131.0  127.0   52.0   11.0   72.0   \n",
       "20087  0.499  ...  0.856   25.0  145.0  170.0  201.0   90.0    9.0   78.0   \n",
       "20099  0.593  ...  0.790  243.0  491.0  734.0  218.0   37.0  113.0  143.0   \n",
       "20188  0.471  ...  0.474   32.0   55.0   87.0    8.0    5.0   29.0   15.0   \n",
       "20313  0.418  ...  0.625   10.0   22.0   32.0   18.0    3.0    2.0   10.0   \n",
       "20335  0.533  ...  0.693  184.0  618.0  802.0  267.0   75.0   59.0  150.0   \n",
       "20356  0.407  ...  0.645   44.0   72.0  116.0   35.0    9.0    6.0   33.0   \n",
       "20457  0.518  ...  0.848   25.0   54.0   79.0   41.0   20.0    4.0   17.0   \n",
       "20465  0.402  ...  0.500   12.0   26.0   38.0   40.0   10.0    1.0   12.0   \n",
       "20493  0.514  ...  0.688   99.0  232.0  331.0  234.0  106.0   21.0  121.0   \n",
       "\n",
       "          PF     PTS  \n",
       "Index                 \n",
       "20005  129.0   667.0  \n",
       "20006  187.0  1970.0  \n",
       "20012  193.0   977.0  \n",
       "20080  109.0   591.0  \n",
       "20087  202.0   615.0  \n",
       "20099  152.0  1190.0  \n",
       "20188   54.0   105.0  \n",
       "20313   17.0    74.0  \n",
       "20335  227.0   882.0  \n",
       "20356   71.0   169.0  \n",
       "20457   67.0   185.0  \n",
       "20465   19.0    69.0  \n",
       "20493  165.0   845.0  \n",
       "\n",
       "[13 rows x 52 columns]"
      ],
      "text/html": "<div>\n<style scoped>\n    .dataframe tbody tr th:only-of-type {\n        vertical-align: middle;\n    }\n\n    .dataframe tbody tr th {\n        vertical-align: top;\n    }\n\n    .dataframe thead th {\n        text-align: right;\n    }\n</style>\n<table border=\"1\" class=\"dataframe\">\n  <thead>\n    <tr style=\"text-align: right;\">\n      <th></th>\n      <th>Year</th>\n      <th>Player</th>\n      <th>Pos</th>\n      <th>Age</th>\n      <th>Tm</th>\n      <th>G</th>\n      <th>GS</th>\n      <th>MP</th>\n      <th>PER</th>\n      <th>TSP_</th>\n      <th>...</th>\n      <th>FTP_</th>\n      <th>ORB</th>\n      <th>DRB</th>\n      <th>TRB</th>\n      <th>AST</th>\n      <th>STL</th>\n      <th>BLK</th>\n      <th>TOV</th>\n      <th>PF</th>\n      <th>PTS</th>\n    </tr>\n    <tr>\n      <th>Index</th>\n      <th></th>\n      <th></th>\n      <th></th>\n      <th></th>\n      <th></th>\n      <th></th>\n      <th></th>\n      <th></th>\n      <th></th>\n      <th></th>\n      <th></th>\n      <th></th>\n      <th></th>\n      <th></th>\n      <th></th>\n      <th></th>\n      <th></th>\n      <th></th>\n      <th></th>\n      <th></th>\n      <th></th>\n    </tr>\n  </thead>\n  <tbody>\n    <tr>\n      <th>20005</th>\n      <td>2010.0</td>\n      <td>Shannon Brown</td>\n      <td>SG</td>\n      <td>24.0</td>\n      <td>LAL</td>\n      <td>82.0</td>\n      <td>7.0</td>\n      <td>1700.0</td>\n      <td>12.4</td>\n      <td>0.517</td>\n      <td>...</td>\n      <td>0.818</td>\n      <td>30.0</td>\n      <td>153.0</td>\n      <td>183.0</td>\n      <td>108.0</td>\n      <td>57.0</td>\n      <td>31.0</td>\n      <td>67.0</td>\n      <td>129.0</td>\n      <td>667.0</td>\n    </tr>\n    <tr>\n      <th>20006</th>\n      <td>2010.0</td>\n      <td>Kobe Bryant</td>\n      <td>SG</td>\n      <td>31.0</td>\n      <td>LAL</td>\n      <td>73.0</td>\n      <td>73.0</td>\n      <td>2835.0</td>\n      <td>21.9</td>\n      <td>0.545</td>\n      <td>...</td>\n      <td>0.811</td>\n      <td>78.0</td>\n      <td>313.0</td>\n      <td>391.0</td>\n      <td>365.0</td>\n      <td>113.0</td>\n      <td>20.0</td>\n      <td>233.0</td>\n      <td>187.0</td>\n      <td>1970.0</td>\n    </tr>\n    <tr>\n      <th>20012</th>\n      <td>2010.0</td>\n      <td>Andrew Bynum</td>\n      <td>C</td>\n      <td>22.0</td>\n      <td>LAL</td>\n      <td>65.0</td>\n      <td>65.0</td>\n      <td>1977.0</td>\n      <td>20.2</td>\n      <td>0.608</td>\n      <td>...</td>\n      <td>0.739</td>\n      <td>177.0</td>\n      <td>364.0</td>\n      <td>541.0</td>\n      <td>68.0</td>\n      <td>35.0</td>\n      <td>94.0</td>\n      <td>115.0</td>\n      <td>193.0</td>\n      <td>977.0</td>\n    </tr>\n    <tr>\n      <th>20080</th>\n      <td>2010.0</td>\n      <td>Jordan Farmar</td>\n      <td>PG</td>\n      <td>23.0</td>\n      <td>LAL</td>\n      <td>82.0</td>\n      <td>0.0</td>\n      <td>1474.0</td>\n      <td>12.3</td>\n      <td>0.535</td>\n      <td>...</td>\n      <td>0.671</td>\n      <td>14.0</td>\n      <td>117.0</td>\n      <td>131.0</td>\n      <td>127.0</td>\n      <td>52.0</td>\n      <td>11.0</td>\n      <td>72.0</td>\n      <td>109.0</td>\n      <td>591.0</td>\n    </tr>\n    <tr>\n      <th>20087</th>\n      <td>2010.0</td>\n      <td>Derek Fisher</td>\n      <td>PG</td>\n      <td>35.0</td>\n      <td>LAL</td>\n      <td>82.0</td>\n      <td>82.0</td>\n      <td>2227.0</td>\n      <td>9.3</td>\n      <td>0.499</td>\n      <td>...</td>\n      <td>0.856</td>\n      <td>25.0</td>\n      <td>145.0</td>\n      <td>170.0</td>\n      <td>201.0</td>\n      <td>90.0</td>\n      <td>9.0</td>\n      <td>78.0</td>\n      <td>202.0</td>\n      <td>615.0</td>\n    </tr>\n    <tr>\n      <th>20099</th>\n      <td>2010.0</td>\n      <td>Pau Gasol</td>\n      <td>C</td>\n      <td>29.0</td>\n      <td>LAL</td>\n      <td>65.0</td>\n      <td>65.0</td>\n      <td>2403.0</td>\n      <td>22.9</td>\n      <td>0.593</td>\n      <td>...</td>\n      <td>0.790</td>\n      <td>243.0</td>\n      <td>491.0</td>\n      <td>734.0</td>\n      <td>218.0</td>\n      <td>37.0</td>\n      <td>113.0</td>\n      <td>143.0</td>\n      <td>152.0</td>\n      <td>1190.0</td>\n    </tr>\n    <tr>\n      <th>20188</th>\n      <td>2010.0</td>\n      <td>Didier Ilunga-Mbenga</td>\n      <td>C</td>\n      <td>29.0</td>\n      <td>LAL</td>\n      <td>49.0</td>\n      <td>2.0</td>\n      <td>355.0</td>\n      <td>11.6</td>\n      <td>0.471</td>\n      <td>...</td>\n      <td>0.474</td>\n      <td>32.0</td>\n      <td>55.0</td>\n      <td>87.0</td>\n      <td>8.0</td>\n      <td>5.0</td>\n      <td>29.0</td>\n      <td>15.0</td>\n      <td>54.0</td>\n      <td>105.0</td>\n    </tr>\n    <tr>\n      <th>20313</th>\n      <td>2010.0</td>\n      <td>Adam Morrison</td>\n      <td>SF</td>\n      <td>25.0</td>\n      <td>LAL</td>\n      <td>31.0</td>\n      <td>0.0</td>\n      <td>241.0</td>\n      <td>7.4</td>\n      <td>0.418</td>\n      <td>...</td>\n      <td>0.625</td>\n      <td>10.0</td>\n      <td>22.0</td>\n      <td>32.0</td>\n      <td>18.0</td>\n      <td>3.0</td>\n      <td>2.0</td>\n      <td>10.0</td>\n      <td>17.0</td>\n      <td>74.0</td>\n    </tr>\n    <tr>\n      <th>20335</th>\n      <td>2010.0</td>\n      <td>Lamar Odom</td>\n      <td>PF</td>\n      <td>30.0</td>\n      <td>LAL</td>\n      <td>82.0</td>\n      <td>38.0</td>\n      <td>2585.0</td>\n      <td>15.9</td>\n      <td>0.533</td>\n      <td>...</td>\n      <td>0.693</td>\n      <td>184.0</td>\n      <td>618.0</td>\n      <td>802.0</td>\n      <td>267.0</td>\n      <td>75.0</td>\n      <td>59.0</td>\n      <td>150.0</td>\n      <td>227.0</td>\n      <td>882.0</td>\n    </tr>\n    <tr>\n      <th>20356</th>\n      <td>2010.0</td>\n      <td>Josh Powell</td>\n      <td>PF</td>\n      <td>27.0</td>\n      <td>LAL</td>\n      <td>63.0</td>\n      <td>0.0</td>\n      <td>581.0</td>\n      <td>6.7</td>\n      <td>0.407</td>\n      <td>...</td>\n      <td>0.645</td>\n      <td>44.0</td>\n      <td>72.0</td>\n      <td>116.0</td>\n      <td>35.0</td>\n      <td>9.0</td>\n      <td>6.0</td>\n      <td>33.0</td>\n      <td>71.0</td>\n      <td>169.0</td>\n    </tr>\n    <tr>\n      <th>20457</th>\n      <td>2010.0</td>\n      <td>Sasha Vujacic</td>\n      <td>SG</td>\n      <td>25.0</td>\n      <td>LAL</td>\n      <td>67.0</td>\n      <td>1.0</td>\n      <td>575.0</td>\n      <td>11.4</td>\n      <td>0.518</td>\n      <td>...</td>\n      <td>0.848</td>\n      <td>25.0</td>\n      <td>54.0</td>\n      <td>79.0</td>\n      <td>41.0</td>\n      <td>20.0</td>\n      <td>4.0</td>\n      <td>17.0</td>\n      <td>67.0</td>\n      <td>185.0</td>\n    </tr>\n    <tr>\n      <th>20465</th>\n      <td>2010.0</td>\n      <td>Luke Walton</td>\n      <td>SF</td>\n      <td>29.0</td>\n      <td>LAL</td>\n      <td>29.0</td>\n      <td>0.0</td>\n      <td>272.0</td>\n      <td>9.7</td>\n      <td>0.402</td>\n      <td>...</td>\n      <td>0.500</td>\n      <td>12.0</td>\n      <td>26.0</td>\n      <td>38.0</td>\n      <td>40.0</td>\n      <td>10.0</td>\n      <td>1.0</td>\n      <td>12.0</td>\n      <td>19.0</td>\n      <td>69.0</td>\n    </tr>\n    <tr>\n      <th>20493</th>\n      <td>2010.0</td>\n      <td>Metta World</td>\n      <td>SF</td>\n      <td>30.0</td>\n      <td>LAL</td>\n      <td>77.0</td>\n      <td>77.0</td>\n      <td>2605.0</td>\n      <td>12.1</td>\n      <td>0.514</td>\n      <td>...</td>\n      <td>0.688</td>\n      <td>99.0</td>\n      <td>232.0</td>\n      <td>331.0</td>\n      <td>234.0</td>\n      <td>106.0</td>\n      <td>21.0</td>\n      <td>121.0</td>\n      <td>165.0</td>\n      <td>845.0</td>\n    </tr>\n  </tbody>\n</table>\n<p>13 rows × 52 columns</p>\n</div>"
     },
     "metadata": {},
     "execution_count": 25
    }
   ],
   "source": [
    "#Get all players that played for the Los Angeles Lakers (LAL) in 2016\n",
    "imported_data[(imported_data['Tm'] == 'LAL') & (imported_data['Year'] == 2010.0)]"
   ]
  },
  {
   "cell_type": "code",
   "execution_count": 26,
   "metadata": {},
   "outputs": [],
   "source": [
    "LAL_df = imported_data[(imported_data['Tm'] == 'LAL') & (imported_data['Year'] == 2010.0)]"
   ]
  },
  {
   "source": [
    "## Calculations between Columns"
   ],
   "cell_type": "markdown",
   "metadata": {}
  },
  {
   "cell_type": "code",
   "execution_count": 27,
   "metadata": {},
   "outputs": [
    {
     "output_type": "stream",
     "name": "stderr",
     "text": [
      "<ipython-input-27-03c513bd3097>:2: SettingWithCopyWarning: \nA value is trying to be set on a copy of a slice from a DataFrame.\nTry using .loc[row_indexer,col_indexer] = value instead\n\nSee the caveats in the documentation: https://pandas.pydata.org/pandas-docs/stable/user_guide/indexing.html#returning-a-view-versus-a-copy\n  LAL_df['PPG'] = LAL_df['PTS'] / LAL_df['G']\n"
     ]
    }
   ],
   "source": [
    "#Determine number of Points Per Game (PPG) for LAL players in 2010 (PTS/G)\n",
    "LAL_df['PPG'] = LAL_df['PTS'] / LAL_df['G']"
   ]
  },
  {
   "cell_type": "code",
   "execution_count": 28,
   "metadata": {},
   "outputs": [
    {
     "output_type": "execute_result",
     "data": {
      "text/plain": [
       "         Year                Player Pos   Age   Tm     G    GS      MP   PER  \\\n",
       "Index                                                                          \n",
       "20005  2010.0         Shannon Brown  SG  24.0  LAL  82.0   7.0  1700.0  12.4   \n",
       "20006  2010.0           Kobe Bryant  SG  31.0  LAL  73.0  73.0  2835.0  21.9   \n",
       "20012  2010.0          Andrew Bynum   C  22.0  LAL  65.0  65.0  1977.0  20.2   \n",
       "20080  2010.0         Jordan Farmar  PG  23.0  LAL  82.0   0.0  1474.0  12.3   \n",
       "20087  2010.0          Derek Fisher  PG  35.0  LAL  82.0  82.0  2227.0   9.3   \n",
       "20099  2010.0             Pau Gasol   C  29.0  LAL  65.0  65.0  2403.0  22.9   \n",
       "20188  2010.0  Didier Ilunga-Mbenga   C  29.0  LAL  49.0   2.0   355.0  11.6   \n",
       "20313  2010.0         Adam Morrison  SF  25.0  LAL  31.0   0.0   241.0   7.4   \n",
       "20335  2010.0            Lamar Odom  PF  30.0  LAL  82.0  38.0  2585.0  15.9   \n",
       "20356  2010.0           Josh Powell  PF  27.0  LAL  63.0   0.0   581.0   6.7   \n",
       "20457  2010.0         Sasha Vujacic  SG  25.0  LAL  67.0   1.0   575.0  11.4   \n",
       "20465  2010.0           Luke Walton  SF  29.0  LAL  29.0   0.0   272.0   9.7   \n",
       "20493  2010.0           Metta World  SF  30.0  LAL  77.0  77.0  2605.0  12.1   \n",
       "\n",
       "        TSP_  ...    ORB    DRB    TRB    AST    STL    BLK    TOV     PF  \\\n",
       "Index         ...                                                           \n",
       "20005  0.517  ...   30.0  153.0  183.0  108.0   57.0   31.0   67.0  129.0   \n",
       "20006  0.545  ...   78.0  313.0  391.0  365.0  113.0   20.0  233.0  187.0   \n",
       "20012  0.608  ...  177.0  364.0  541.0   68.0   35.0   94.0  115.0  193.0   \n",
       "20080  0.535  ...   14.0  117.0  131.0  127.0   52.0   11.0   72.0  109.0   \n",
       "20087  0.499  ...   25.0  145.0  170.0  201.0   90.0    9.0   78.0  202.0   \n",
       "20099  0.593  ...  243.0  491.0  734.0  218.0   37.0  113.0  143.0  152.0   \n",
       "20188  0.471  ...   32.0   55.0   87.0    8.0    5.0   29.0   15.0   54.0   \n",
       "20313  0.418  ...   10.0   22.0   32.0   18.0    3.0    2.0   10.0   17.0   \n",
       "20335  0.533  ...  184.0  618.0  802.0  267.0   75.0   59.0  150.0  227.0   \n",
       "20356  0.407  ...   44.0   72.0  116.0   35.0    9.0    6.0   33.0   71.0   \n",
       "20457  0.518  ...   25.0   54.0   79.0   41.0   20.0    4.0   17.0   67.0   \n",
       "20465  0.402  ...   12.0   26.0   38.0   40.0   10.0    1.0   12.0   19.0   \n",
       "20493  0.514  ...   99.0  232.0  331.0  234.0  106.0   21.0  121.0  165.0   \n",
       "\n",
       "          PTS        PPG  \n",
       "Index                     \n",
       "20005   667.0   8.134146  \n",
       "20006  1970.0  26.986301  \n",
       "20012   977.0  15.030769  \n",
       "20080   591.0   7.207317  \n",
       "20087   615.0   7.500000  \n",
       "20099  1190.0  18.307692  \n",
       "20188   105.0   2.142857  \n",
       "20313    74.0   2.387097  \n",
       "20335   882.0  10.756098  \n",
       "20356   169.0   2.682540  \n",
       "20457   185.0   2.761194  \n",
       "20465    69.0   2.379310  \n",
       "20493   845.0  10.974026  \n",
       "\n",
       "[13 rows x 53 columns]"
      ],
      "text/html": "<div>\n<style scoped>\n    .dataframe tbody tr th:only-of-type {\n        vertical-align: middle;\n    }\n\n    .dataframe tbody tr th {\n        vertical-align: top;\n    }\n\n    .dataframe thead th {\n        text-align: right;\n    }\n</style>\n<table border=\"1\" class=\"dataframe\">\n  <thead>\n    <tr style=\"text-align: right;\">\n      <th></th>\n      <th>Year</th>\n      <th>Player</th>\n      <th>Pos</th>\n      <th>Age</th>\n      <th>Tm</th>\n      <th>G</th>\n      <th>GS</th>\n      <th>MP</th>\n      <th>PER</th>\n      <th>TSP_</th>\n      <th>...</th>\n      <th>ORB</th>\n      <th>DRB</th>\n      <th>TRB</th>\n      <th>AST</th>\n      <th>STL</th>\n      <th>BLK</th>\n      <th>TOV</th>\n      <th>PF</th>\n      <th>PTS</th>\n      <th>PPG</th>\n    </tr>\n    <tr>\n      <th>Index</th>\n      <th></th>\n      <th></th>\n      <th></th>\n      <th></th>\n      <th></th>\n      <th></th>\n      <th></th>\n      <th></th>\n      <th></th>\n      <th></th>\n      <th></th>\n      <th></th>\n      <th></th>\n      <th></th>\n      <th></th>\n      <th></th>\n      <th></th>\n      <th></th>\n      <th></th>\n      <th></th>\n      <th></th>\n    </tr>\n  </thead>\n  <tbody>\n    <tr>\n      <th>20005</th>\n      <td>2010.0</td>\n      <td>Shannon Brown</td>\n      <td>SG</td>\n      <td>24.0</td>\n      <td>LAL</td>\n      <td>82.0</td>\n      <td>7.0</td>\n      <td>1700.0</td>\n      <td>12.4</td>\n      <td>0.517</td>\n      <td>...</td>\n      <td>30.0</td>\n      <td>153.0</td>\n      <td>183.0</td>\n      <td>108.0</td>\n      <td>57.0</td>\n      <td>31.0</td>\n      <td>67.0</td>\n      <td>129.0</td>\n      <td>667.0</td>\n      <td>8.134146</td>\n    </tr>\n    <tr>\n      <th>20006</th>\n      <td>2010.0</td>\n      <td>Kobe Bryant</td>\n      <td>SG</td>\n      <td>31.0</td>\n      <td>LAL</td>\n      <td>73.0</td>\n      <td>73.0</td>\n      <td>2835.0</td>\n      <td>21.9</td>\n      <td>0.545</td>\n      <td>...</td>\n      <td>78.0</td>\n      <td>313.0</td>\n      <td>391.0</td>\n      <td>365.0</td>\n      <td>113.0</td>\n      <td>20.0</td>\n      <td>233.0</td>\n      <td>187.0</td>\n      <td>1970.0</td>\n      <td>26.986301</td>\n    </tr>\n    <tr>\n      <th>20012</th>\n      <td>2010.0</td>\n      <td>Andrew Bynum</td>\n      <td>C</td>\n      <td>22.0</td>\n      <td>LAL</td>\n      <td>65.0</td>\n      <td>65.0</td>\n      <td>1977.0</td>\n      <td>20.2</td>\n      <td>0.608</td>\n      <td>...</td>\n      <td>177.0</td>\n      <td>364.0</td>\n      <td>541.0</td>\n      <td>68.0</td>\n      <td>35.0</td>\n      <td>94.0</td>\n      <td>115.0</td>\n      <td>193.0</td>\n      <td>977.0</td>\n      <td>15.030769</td>\n    </tr>\n    <tr>\n      <th>20080</th>\n      <td>2010.0</td>\n      <td>Jordan Farmar</td>\n      <td>PG</td>\n      <td>23.0</td>\n      <td>LAL</td>\n      <td>82.0</td>\n      <td>0.0</td>\n      <td>1474.0</td>\n      <td>12.3</td>\n      <td>0.535</td>\n      <td>...</td>\n      <td>14.0</td>\n      <td>117.0</td>\n      <td>131.0</td>\n      <td>127.0</td>\n      <td>52.0</td>\n      <td>11.0</td>\n      <td>72.0</td>\n      <td>109.0</td>\n      <td>591.0</td>\n      <td>7.207317</td>\n    </tr>\n    <tr>\n      <th>20087</th>\n      <td>2010.0</td>\n      <td>Derek Fisher</td>\n      <td>PG</td>\n      <td>35.0</td>\n      <td>LAL</td>\n      <td>82.0</td>\n      <td>82.0</td>\n      <td>2227.0</td>\n      <td>9.3</td>\n      <td>0.499</td>\n      <td>...</td>\n      <td>25.0</td>\n      <td>145.0</td>\n      <td>170.0</td>\n      <td>201.0</td>\n      <td>90.0</td>\n      <td>9.0</td>\n      <td>78.0</td>\n      <td>202.0</td>\n      <td>615.0</td>\n      <td>7.500000</td>\n    </tr>\n    <tr>\n      <th>20099</th>\n      <td>2010.0</td>\n      <td>Pau Gasol</td>\n      <td>C</td>\n      <td>29.0</td>\n      <td>LAL</td>\n      <td>65.0</td>\n      <td>65.0</td>\n      <td>2403.0</td>\n      <td>22.9</td>\n      <td>0.593</td>\n      <td>...</td>\n      <td>243.0</td>\n      <td>491.0</td>\n      <td>734.0</td>\n      <td>218.0</td>\n      <td>37.0</td>\n      <td>113.0</td>\n      <td>143.0</td>\n      <td>152.0</td>\n      <td>1190.0</td>\n      <td>18.307692</td>\n    </tr>\n    <tr>\n      <th>20188</th>\n      <td>2010.0</td>\n      <td>Didier Ilunga-Mbenga</td>\n      <td>C</td>\n      <td>29.0</td>\n      <td>LAL</td>\n      <td>49.0</td>\n      <td>2.0</td>\n      <td>355.0</td>\n      <td>11.6</td>\n      <td>0.471</td>\n      <td>...</td>\n      <td>32.0</td>\n      <td>55.0</td>\n      <td>87.0</td>\n      <td>8.0</td>\n      <td>5.0</td>\n      <td>29.0</td>\n      <td>15.0</td>\n      <td>54.0</td>\n      <td>105.0</td>\n      <td>2.142857</td>\n    </tr>\n    <tr>\n      <th>20313</th>\n      <td>2010.0</td>\n      <td>Adam Morrison</td>\n      <td>SF</td>\n      <td>25.0</td>\n      <td>LAL</td>\n      <td>31.0</td>\n      <td>0.0</td>\n      <td>241.0</td>\n      <td>7.4</td>\n      <td>0.418</td>\n      <td>...</td>\n      <td>10.0</td>\n      <td>22.0</td>\n      <td>32.0</td>\n      <td>18.0</td>\n      <td>3.0</td>\n      <td>2.0</td>\n      <td>10.0</td>\n      <td>17.0</td>\n      <td>74.0</td>\n      <td>2.387097</td>\n    </tr>\n    <tr>\n      <th>20335</th>\n      <td>2010.0</td>\n      <td>Lamar Odom</td>\n      <td>PF</td>\n      <td>30.0</td>\n      <td>LAL</td>\n      <td>82.0</td>\n      <td>38.0</td>\n      <td>2585.0</td>\n      <td>15.9</td>\n      <td>0.533</td>\n      <td>...</td>\n      <td>184.0</td>\n      <td>618.0</td>\n      <td>802.0</td>\n      <td>267.0</td>\n      <td>75.0</td>\n      <td>59.0</td>\n      <td>150.0</td>\n      <td>227.0</td>\n      <td>882.0</td>\n      <td>10.756098</td>\n    </tr>\n    <tr>\n      <th>20356</th>\n      <td>2010.0</td>\n      <td>Josh Powell</td>\n      <td>PF</td>\n      <td>27.0</td>\n      <td>LAL</td>\n      <td>63.0</td>\n      <td>0.0</td>\n      <td>581.0</td>\n      <td>6.7</td>\n      <td>0.407</td>\n      <td>...</td>\n      <td>44.0</td>\n      <td>72.0</td>\n      <td>116.0</td>\n      <td>35.0</td>\n      <td>9.0</td>\n      <td>6.0</td>\n      <td>33.0</td>\n      <td>71.0</td>\n      <td>169.0</td>\n      <td>2.682540</td>\n    </tr>\n    <tr>\n      <th>20457</th>\n      <td>2010.0</td>\n      <td>Sasha Vujacic</td>\n      <td>SG</td>\n      <td>25.0</td>\n      <td>LAL</td>\n      <td>67.0</td>\n      <td>1.0</td>\n      <td>575.0</td>\n      <td>11.4</td>\n      <td>0.518</td>\n      <td>...</td>\n      <td>25.0</td>\n      <td>54.0</td>\n      <td>79.0</td>\n      <td>41.0</td>\n      <td>20.0</td>\n      <td>4.0</td>\n      <td>17.0</td>\n      <td>67.0</td>\n      <td>185.0</td>\n      <td>2.761194</td>\n    </tr>\n    <tr>\n      <th>20465</th>\n      <td>2010.0</td>\n      <td>Luke Walton</td>\n      <td>SF</td>\n      <td>29.0</td>\n      <td>LAL</td>\n      <td>29.0</td>\n      <td>0.0</td>\n      <td>272.0</td>\n      <td>9.7</td>\n      <td>0.402</td>\n      <td>...</td>\n      <td>12.0</td>\n      <td>26.0</td>\n      <td>38.0</td>\n      <td>40.0</td>\n      <td>10.0</td>\n      <td>1.0</td>\n      <td>12.0</td>\n      <td>19.0</td>\n      <td>69.0</td>\n      <td>2.379310</td>\n    </tr>\n    <tr>\n      <th>20493</th>\n      <td>2010.0</td>\n      <td>Metta World</td>\n      <td>SF</td>\n      <td>30.0</td>\n      <td>LAL</td>\n      <td>77.0</td>\n      <td>77.0</td>\n      <td>2605.0</td>\n      <td>12.1</td>\n      <td>0.514</td>\n      <td>...</td>\n      <td>99.0</td>\n      <td>232.0</td>\n      <td>331.0</td>\n      <td>234.0</td>\n      <td>106.0</td>\n      <td>21.0</td>\n      <td>121.0</td>\n      <td>165.0</td>\n      <td>845.0</td>\n      <td>10.974026</td>\n    </tr>\n  </tbody>\n</table>\n<p>13 rows × 53 columns</p>\n</div>"
     },
     "metadata": {},
     "execution_count": 28
    }
   ],
   "source": [
    "LAL_df"
   ]
  },
  {
   "source": [
    "## Applying Personalized Functions"
   ],
   "cell_type": "markdown",
   "metadata": {}
  },
  {
   "cell_type": "code",
   "execution_count": 32,
   "metadata": {},
   "outputs": [],
   "source": [
    "# Transform full name into first initial plus last name\n",
    "# i.e. Kobe Bryant -> K. Bryant\n",
    "\n",
    "def first_initial_transform(player_full_name):\n",
    "    name_tokenized = player_full_name.split(\" \")\n",
    "    return f\"{name_tokenized[0][0]}. {name_tokenized[1]}\""
   ]
  },
  {
   "cell_type": "code",
   "execution_count": 33,
   "metadata": {},
   "outputs": [
    {
     "output_type": "stream",
     "name": "stderr",
     "text": [
      "<ipython-input-33-46ed631b73f1>:1: SettingWithCopyWarning: \nA value is trying to be set on a copy of a slice from a DataFrame.\nTry using .loc[row_indexer,col_indexer] = value instead\n\nSee the caveats in the documentation: https://pandas.pydata.org/pandas-docs/stable/user_guide/indexing.html#returning-a-view-versus-a-copy\n  LAL_df['Player'] = LAL_df['Player'].apply(first_initial_transform)\n"
     ]
    }
   ],
   "source": [
    "LAL_df['Player'] = LAL_df['Player'].apply(first_initial_transform)"
   ]
  },
  {
   "cell_type": "code",
   "execution_count": 34,
   "metadata": {},
   "outputs": [
    {
     "output_type": "execute_result",
     "data": {
      "text/plain": [
       "         Year            Player Pos   Age   Tm     G    GS      MP   PER  \\\n",
       "Index                                                                      \n",
       "20005  2010.0          S. Brown  SG  24.0  LAL  82.0   7.0  1700.0  12.4   \n",
       "20006  2010.0         K. Bryant  SG  31.0  LAL  73.0  73.0  2835.0  21.9   \n",
       "20012  2010.0          A. Bynum   C  22.0  LAL  65.0  65.0  1977.0  20.2   \n",
       "20080  2010.0         J. Farmar  PG  23.0  LAL  82.0   0.0  1474.0  12.3   \n",
       "20087  2010.0         D. Fisher  PG  35.0  LAL  82.0  82.0  2227.0   9.3   \n",
       "20099  2010.0          P. Gasol   C  29.0  LAL  65.0  65.0  2403.0  22.9   \n",
       "20188  2010.0  D. Ilunga-Mbenga   C  29.0  LAL  49.0   2.0   355.0  11.6   \n",
       "20313  2010.0       A. Morrison  SF  25.0  LAL  31.0   0.0   241.0   7.4   \n",
       "20335  2010.0           L. Odom  PF  30.0  LAL  82.0  38.0  2585.0  15.9   \n",
       "20356  2010.0         J. Powell  PF  27.0  LAL  63.0   0.0   581.0   6.7   \n",
       "20457  2010.0        S. Vujacic  SG  25.0  LAL  67.0   1.0   575.0  11.4   \n",
       "20465  2010.0         L. Walton  SF  29.0  LAL  29.0   0.0   272.0   9.7   \n",
       "20493  2010.0          M. World  SF  30.0  LAL  77.0  77.0  2605.0  12.1   \n",
       "\n",
       "        TSP_  ...    ORB    DRB    TRB    AST    STL    BLK    TOV     PF  \\\n",
       "Index         ...                                                           \n",
       "20005  0.517  ...   30.0  153.0  183.0  108.0   57.0   31.0   67.0  129.0   \n",
       "20006  0.545  ...   78.0  313.0  391.0  365.0  113.0   20.0  233.0  187.0   \n",
       "20012  0.608  ...  177.0  364.0  541.0   68.0   35.0   94.0  115.0  193.0   \n",
       "20080  0.535  ...   14.0  117.0  131.0  127.0   52.0   11.0   72.0  109.0   \n",
       "20087  0.499  ...   25.0  145.0  170.0  201.0   90.0    9.0   78.0  202.0   \n",
       "20099  0.593  ...  243.0  491.0  734.0  218.0   37.0  113.0  143.0  152.0   \n",
       "20188  0.471  ...   32.0   55.0   87.0    8.0    5.0   29.0   15.0   54.0   \n",
       "20313  0.418  ...   10.0   22.0   32.0   18.0    3.0    2.0   10.0   17.0   \n",
       "20335  0.533  ...  184.0  618.0  802.0  267.0   75.0   59.0  150.0  227.0   \n",
       "20356  0.407  ...   44.0   72.0  116.0   35.0    9.0    6.0   33.0   71.0   \n",
       "20457  0.518  ...   25.0   54.0   79.0   41.0   20.0    4.0   17.0   67.0   \n",
       "20465  0.402  ...   12.0   26.0   38.0   40.0   10.0    1.0   12.0   19.0   \n",
       "20493  0.514  ...   99.0  232.0  331.0  234.0  106.0   21.0  121.0  165.0   \n",
       "\n",
       "          PTS        PPG  \n",
       "Index                     \n",
       "20005   667.0   8.134146  \n",
       "20006  1970.0  26.986301  \n",
       "20012   977.0  15.030769  \n",
       "20080   591.0   7.207317  \n",
       "20087   615.0   7.500000  \n",
       "20099  1190.0  18.307692  \n",
       "20188   105.0   2.142857  \n",
       "20313    74.0   2.387097  \n",
       "20335   882.0  10.756098  \n",
       "20356   169.0   2.682540  \n",
       "20457   185.0   2.761194  \n",
       "20465    69.0   2.379310  \n",
       "20493   845.0  10.974026  \n",
       "\n",
       "[13 rows x 53 columns]"
      ],
      "text/html": "<div>\n<style scoped>\n    .dataframe tbody tr th:only-of-type {\n        vertical-align: middle;\n    }\n\n    .dataframe tbody tr th {\n        vertical-align: top;\n    }\n\n    .dataframe thead th {\n        text-align: right;\n    }\n</style>\n<table border=\"1\" class=\"dataframe\">\n  <thead>\n    <tr style=\"text-align: right;\">\n      <th></th>\n      <th>Year</th>\n      <th>Player</th>\n      <th>Pos</th>\n      <th>Age</th>\n      <th>Tm</th>\n      <th>G</th>\n      <th>GS</th>\n      <th>MP</th>\n      <th>PER</th>\n      <th>TSP_</th>\n      <th>...</th>\n      <th>ORB</th>\n      <th>DRB</th>\n      <th>TRB</th>\n      <th>AST</th>\n      <th>STL</th>\n      <th>BLK</th>\n      <th>TOV</th>\n      <th>PF</th>\n      <th>PTS</th>\n      <th>PPG</th>\n    </tr>\n    <tr>\n      <th>Index</th>\n      <th></th>\n      <th></th>\n      <th></th>\n      <th></th>\n      <th></th>\n      <th></th>\n      <th></th>\n      <th></th>\n      <th></th>\n      <th></th>\n      <th></th>\n      <th></th>\n      <th></th>\n      <th></th>\n      <th></th>\n      <th></th>\n      <th></th>\n      <th></th>\n      <th></th>\n      <th></th>\n      <th></th>\n    </tr>\n  </thead>\n  <tbody>\n    <tr>\n      <th>20005</th>\n      <td>2010.0</td>\n      <td>S. Brown</td>\n      <td>SG</td>\n      <td>24.0</td>\n      <td>LAL</td>\n      <td>82.0</td>\n      <td>7.0</td>\n      <td>1700.0</td>\n      <td>12.4</td>\n      <td>0.517</td>\n      <td>...</td>\n      <td>30.0</td>\n      <td>153.0</td>\n      <td>183.0</td>\n      <td>108.0</td>\n      <td>57.0</td>\n      <td>31.0</td>\n      <td>67.0</td>\n      <td>129.0</td>\n      <td>667.0</td>\n      <td>8.134146</td>\n    </tr>\n    <tr>\n      <th>20006</th>\n      <td>2010.0</td>\n      <td>K. Bryant</td>\n      <td>SG</td>\n      <td>31.0</td>\n      <td>LAL</td>\n      <td>73.0</td>\n      <td>73.0</td>\n      <td>2835.0</td>\n      <td>21.9</td>\n      <td>0.545</td>\n      <td>...</td>\n      <td>78.0</td>\n      <td>313.0</td>\n      <td>391.0</td>\n      <td>365.0</td>\n      <td>113.0</td>\n      <td>20.0</td>\n      <td>233.0</td>\n      <td>187.0</td>\n      <td>1970.0</td>\n      <td>26.986301</td>\n    </tr>\n    <tr>\n      <th>20012</th>\n      <td>2010.0</td>\n      <td>A. Bynum</td>\n      <td>C</td>\n      <td>22.0</td>\n      <td>LAL</td>\n      <td>65.0</td>\n      <td>65.0</td>\n      <td>1977.0</td>\n      <td>20.2</td>\n      <td>0.608</td>\n      <td>...</td>\n      <td>177.0</td>\n      <td>364.0</td>\n      <td>541.0</td>\n      <td>68.0</td>\n      <td>35.0</td>\n      <td>94.0</td>\n      <td>115.0</td>\n      <td>193.0</td>\n      <td>977.0</td>\n      <td>15.030769</td>\n    </tr>\n    <tr>\n      <th>20080</th>\n      <td>2010.0</td>\n      <td>J. Farmar</td>\n      <td>PG</td>\n      <td>23.0</td>\n      <td>LAL</td>\n      <td>82.0</td>\n      <td>0.0</td>\n      <td>1474.0</td>\n      <td>12.3</td>\n      <td>0.535</td>\n      <td>...</td>\n      <td>14.0</td>\n      <td>117.0</td>\n      <td>131.0</td>\n      <td>127.0</td>\n      <td>52.0</td>\n      <td>11.0</td>\n      <td>72.0</td>\n      <td>109.0</td>\n      <td>591.0</td>\n      <td>7.207317</td>\n    </tr>\n    <tr>\n      <th>20087</th>\n      <td>2010.0</td>\n      <td>D. Fisher</td>\n      <td>PG</td>\n      <td>35.0</td>\n      <td>LAL</td>\n      <td>82.0</td>\n      <td>82.0</td>\n      <td>2227.0</td>\n      <td>9.3</td>\n      <td>0.499</td>\n      <td>...</td>\n      <td>25.0</td>\n      <td>145.0</td>\n      <td>170.0</td>\n      <td>201.0</td>\n      <td>90.0</td>\n      <td>9.0</td>\n      <td>78.0</td>\n      <td>202.0</td>\n      <td>615.0</td>\n      <td>7.500000</td>\n    </tr>\n    <tr>\n      <th>20099</th>\n      <td>2010.0</td>\n      <td>P. Gasol</td>\n      <td>C</td>\n      <td>29.0</td>\n      <td>LAL</td>\n      <td>65.0</td>\n      <td>65.0</td>\n      <td>2403.0</td>\n      <td>22.9</td>\n      <td>0.593</td>\n      <td>...</td>\n      <td>243.0</td>\n      <td>491.0</td>\n      <td>734.0</td>\n      <td>218.0</td>\n      <td>37.0</td>\n      <td>113.0</td>\n      <td>143.0</td>\n      <td>152.0</td>\n      <td>1190.0</td>\n      <td>18.307692</td>\n    </tr>\n    <tr>\n      <th>20188</th>\n      <td>2010.0</td>\n      <td>D. Ilunga-Mbenga</td>\n      <td>C</td>\n      <td>29.0</td>\n      <td>LAL</td>\n      <td>49.0</td>\n      <td>2.0</td>\n      <td>355.0</td>\n      <td>11.6</td>\n      <td>0.471</td>\n      <td>...</td>\n      <td>32.0</td>\n      <td>55.0</td>\n      <td>87.0</td>\n      <td>8.0</td>\n      <td>5.0</td>\n      <td>29.0</td>\n      <td>15.0</td>\n      <td>54.0</td>\n      <td>105.0</td>\n      <td>2.142857</td>\n    </tr>\n    <tr>\n      <th>20313</th>\n      <td>2010.0</td>\n      <td>A. Morrison</td>\n      <td>SF</td>\n      <td>25.0</td>\n      <td>LAL</td>\n      <td>31.0</td>\n      <td>0.0</td>\n      <td>241.0</td>\n      <td>7.4</td>\n      <td>0.418</td>\n      <td>...</td>\n      <td>10.0</td>\n      <td>22.0</td>\n      <td>32.0</td>\n      <td>18.0</td>\n      <td>3.0</td>\n      <td>2.0</td>\n      <td>10.0</td>\n      <td>17.0</td>\n      <td>74.0</td>\n      <td>2.387097</td>\n    </tr>\n    <tr>\n      <th>20335</th>\n      <td>2010.0</td>\n      <td>L. Odom</td>\n      <td>PF</td>\n      <td>30.0</td>\n      <td>LAL</td>\n      <td>82.0</td>\n      <td>38.0</td>\n      <td>2585.0</td>\n      <td>15.9</td>\n      <td>0.533</td>\n      <td>...</td>\n      <td>184.0</td>\n      <td>618.0</td>\n      <td>802.0</td>\n      <td>267.0</td>\n      <td>75.0</td>\n      <td>59.0</td>\n      <td>150.0</td>\n      <td>227.0</td>\n      <td>882.0</td>\n      <td>10.756098</td>\n    </tr>\n    <tr>\n      <th>20356</th>\n      <td>2010.0</td>\n      <td>J. Powell</td>\n      <td>PF</td>\n      <td>27.0</td>\n      <td>LAL</td>\n      <td>63.0</td>\n      <td>0.0</td>\n      <td>581.0</td>\n      <td>6.7</td>\n      <td>0.407</td>\n      <td>...</td>\n      <td>44.0</td>\n      <td>72.0</td>\n      <td>116.0</td>\n      <td>35.0</td>\n      <td>9.0</td>\n      <td>6.0</td>\n      <td>33.0</td>\n      <td>71.0</td>\n      <td>169.0</td>\n      <td>2.682540</td>\n    </tr>\n    <tr>\n      <th>20457</th>\n      <td>2010.0</td>\n      <td>S. Vujacic</td>\n      <td>SG</td>\n      <td>25.0</td>\n      <td>LAL</td>\n      <td>67.0</td>\n      <td>1.0</td>\n      <td>575.0</td>\n      <td>11.4</td>\n      <td>0.518</td>\n      <td>...</td>\n      <td>25.0</td>\n      <td>54.0</td>\n      <td>79.0</td>\n      <td>41.0</td>\n      <td>20.0</td>\n      <td>4.0</td>\n      <td>17.0</td>\n      <td>67.0</td>\n      <td>185.0</td>\n      <td>2.761194</td>\n    </tr>\n    <tr>\n      <th>20465</th>\n      <td>2010.0</td>\n      <td>L. Walton</td>\n      <td>SF</td>\n      <td>29.0</td>\n      <td>LAL</td>\n      <td>29.0</td>\n      <td>0.0</td>\n      <td>272.0</td>\n      <td>9.7</td>\n      <td>0.402</td>\n      <td>...</td>\n      <td>12.0</td>\n      <td>26.0</td>\n      <td>38.0</td>\n      <td>40.0</td>\n      <td>10.0</td>\n      <td>1.0</td>\n      <td>12.0</td>\n      <td>19.0</td>\n      <td>69.0</td>\n      <td>2.379310</td>\n    </tr>\n    <tr>\n      <th>20493</th>\n      <td>2010.0</td>\n      <td>M. World</td>\n      <td>SF</td>\n      <td>30.0</td>\n      <td>LAL</td>\n      <td>77.0</td>\n      <td>77.0</td>\n      <td>2605.0</td>\n      <td>12.1</td>\n      <td>0.514</td>\n      <td>...</td>\n      <td>99.0</td>\n      <td>232.0</td>\n      <td>331.0</td>\n      <td>234.0</td>\n      <td>106.0</td>\n      <td>21.0</td>\n      <td>121.0</td>\n      <td>165.0</td>\n      <td>845.0</td>\n      <td>10.974026</td>\n    </tr>\n  </tbody>\n</table>\n<p>13 rows × 53 columns</p>\n</div>"
     },
     "metadata": {},
     "execution_count": 34
    }
   ],
   "source": [
    "LAL_df"
   ]
  },
  {
   "cell_type": "code",
   "execution_count": null,
   "metadata": {},
   "outputs": [],
   "source": []
  }
 ]
}